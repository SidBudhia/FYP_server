{
 "cells": [
  {
   "cell_type": "code",
   "execution_count": null,
   "id": "e49bb140",
   "metadata": {},
   "outputs": [],
   "source": [
    "import pandas as pd\n",
    "from sklearn.model_selection import train_test_split\n",
    "import seaborn as sns\n",
    "import matplotlib.pyplot as plt\n",
    "%matplotlib inline\n",
    "import scipy.stats as stats\n",
    "from sklearn.pipeline import Pipeline\n",
    "from sklearn.preprocessing import StandardScaler\n",
    "from sklearn.compose import ColumnTransformer\n",
    "from sklearn.preprocessing import FunctionTransformer\n",
    "from sklearn.linear_model import LinearRegression\n",
    "from sklearn.neighbors import KNeighborsRegressor\n",
    "from sklearn import svm\n",
    "from sklearn.svm import SVR\n",
    "from sklearn.ensemble import RandomForestRegressor\n",
    "from sklearn.tree import DecisionTreeRegressor\n",
    "from sklearn.metrics import mean_absolute_error\n",
    "from sklearn.metrics import mean_squared_error\n",
    "from sklearn.metrics import r2_score\n",
    "from sklearn.model_selection import GridSearchCV\n",
    "import warnings\n",
    "warnings.filterwarnings(\"ignore\")"
   ]
  },
  {
   "cell_type": "code",
   "execution_count": null,
   "id": "56e74e90",
   "metadata": {},
   "outputs": [],
   "source": [
    "df = pd.read_excel(r\"C:\\Users\\we\\Downloads\\ABS+CF DATA POINTS ML (2).xlsx\")"
   ]
  },
  {
   "cell_type": "code",
   "execution_count": null,
   "id": "9dbdd8de",
   "metadata": {},
   "outputs": [],
   "source": [
    "df.tail()"
   ]
  },
  {
   "cell_type": "code",
   "execution_count": null,
   "id": "6846945d",
   "metadata": {},
   "outputs": [],
   "source": [
    "df.info()"
   ]
  },
  {
   "cell_type": "code",
   "execution_count": null,
   "id": "4bf9651c",
   "metadata": {},
   "outputs": [],
   "source": [
    "df.describe()"
   ]
  },
  {
   "cell_type": "code",
   "execution_count": null,
   "id": "ce3f2a99",
   "metadata": {},
   "outputs": [],
   "source": [
    "df.nunique().sort_values(ascending = False)"
   ]
  },
  {
   "cell_type": "code",
   "execution_count": null,
   "id": "4743f363",
   "metadata": {},
   "outputs": [],
   "source": [
    "target = pd.DataFrame(df['Tensile Strength (MPa)'])\n",
    "feature = pd.DataFrame(df.drop(['Tensile Strength (MPa)'], axis = 1))"
   ]
  },
  {
   "cell_type": "code",
   "execution_count": null,
   "id": "7972826e",
   "metadata": {},
   "outputs": [],
   "source": [
    "target"
   ]
  },
  {
   "cell_type": "code",
   "execution_count": null,
   "id": "54fa6f4a",
   "metadata": {},
   "outputs": [],
   "source": [
    "X_train, X_test, y_train, y_test = train_test_split(feature, target, test_size=0.3, stratify= feature[[\"Infill Density (%)\"]])"
   ]
  },
  {
   "cell_type": "code",
   "execution_count": null,
   "id": "83b3c6a8",
   "metadata": {},
   "outputs": [],
   "source": [
    "list_feature = [col for col in X_train.columns if X_train[col].dtype !='O']"
   ]
  },
  {
   "cell_type": "code",
   "execution_count": null,
   "id": "c786aeef",
   "metadata": {},
   "outputs": [],
   "source": [
    "plt.boxplot(y_train['Tensile Strength (MPa)'])\n",
    "plt.show()"
   ]
  },
  {
   "cell_type": "code",
   "execution_count": null,
   "id": "bbd60b58",
   "metadata": {},
   "outputs": [],
   "source": [
    "for i in list_feature:\n",
    "    sns.boxplot(X_train[i])\n",
    "    plt.show()"
   ]
  },
  {
   "cell_type": "code",
   "execution_count": null,
   "id": "d1a26272",
   "metadata": {},
   "outputs": [],
   "source": [
    "plt.subplot(121)\n",
    "sns.distplot(x = y_train['Tensile Strength (MPa)'], kde = True, bins = 15)\n",
    "plt.xlabel('Tensile Strength (MPa)')\n",
    "plt.title('Tensile Strength (MPa)' + ' pdf')\n",
    "\n",
    "plt.subplot(122)\n",
    "stats.probplot(y_train['Tensile Strength (MPa)'], dist = 'norm', plot = plt)\n",
    "plt.title('Tensile Strength (MPa)' + ' QQ plot')\n",
    "plt.show()"
   ]
  },
  {
   "cell_type": "code",
   "execution_count": null,
   "id": "ef95358c",
   "metadata": {},
   "outputs": [],
   "source": [
    "for i in range(len(list_feature)):\n",
    "    for j in range(i+1, len(list_feature)):\n",
    "        sns.regplot(x = feature[list_feature[i]], y = feature[list_feature[j]], scatter=True)\n",
    "        plt.show()"
   ]
  },
  {
   "cell_type": "code",
   "execution_count": null,
   "id": "b9c44800",
   "metadata": {},
   "outputs": [],
   "source": [
    "for i in range(len(list_feature)):\n",
    "    sns.regplot(x = feature[list_feature[i]], y = target[\"Tensile Strength (MPa)\"], scatter=True)\n",
    "    plt.show()"
   ]
  },
  {
   "cell_type": "code",
   "execution_count": null,
   "id": "18fac05e",
   "metadata": {},
   "outputs": [],
   "source": [
    "feature_pipeline = Pipeline([\n",
    "    ('scalar', StandardScaler())\n",
    "])"
   ]
  },
  {
   "cell_type": "code",
   "execution_count": null,
   "id": "2cd47160",
   "metadata": {},
   "outputs": [],
   "source": [
    "transformer = ColumnTransformer(transformers=\n",
    "    [('tnf1', feature_pipeline, list_feature),], remainder = 'passthrough')"
   ]
  },
  {
   "cell_type": "code",
   "execution_count": null,
   "id": "489ec7c9",
   "metadata": {},
   "outputs": [],
   "source": [
    "X_train = transformer.fit_transform(X_train)\n",
    "X_test = transformer.transform(X_test)"
   ]
  },
  {
   "cell_type": "code",
   "execution_count": null,
   "id": "73d912cd",
   "metadata": {},
   "outputs": [],
   "source": [
    "def evaluate_model(true,predicted):\n",
    "    mae = mean_absolute_error(true, predicted)\n",
    "    mse = mean_squared_error(true, predicted, squared = True)\n",
    "    rmse = mean_squared_error(true, predicted, squared = False)\n",
    "    r2 = r2_score(true, predicted)\n",
    "    return mae, mse, rmse, r2"
   ]
  },
  {
   "cell_type": "code",
   "execution_count": null,
   "id": "0dc6af25",
   "metadata": {
    "scrolled": false
   },
   "outputs": [],
   "source": [
    "models = {\n",
    "    \"Linear Regression\":LinearRegression(),\n",
    "    \"KNeighbors Regressor\":KNeighborsRegressor(),\n",
    "    \"Support Vector Regressor\":SVR(),\n",
    "    \"Random Forest Regressor\":RandomForestRegressor(),\n",
    "    \"Decision Tree Regressor\":DecisionTreeRegressor(),\n",
    "}\n",
    "model_mae_dic = dict()\n",
    "model_mse_dic = dict()\n",
    "model_rmse_dic = dict()\n",
    "model_R2_score = dict()\n",
    "\n",
    "for i in range(len(list(models))):\n",
    "    model = list(models.values())[i]\n",
    "    model.fit(X_train,y_train)\n",
    "    \n",
    "    y_train_pred = model.predict(X_train)\n",
    "    y_test_pred = model.predict(X_test)\n",
    "    \n",
    "    train_mae = evaluate_model(y_train,y_train_pred)[0]\n",
    "    test_mae = evaluate_model(y_test,y_test_pred)[0]\n",
    "    train_mse = evaluate_model(y_train,y_train_pred)[1]\n",
    "    test_mse = evaluate_model(y_test,y_test_pred)[1]\n",
    "    train_rmse = evaluate_model(y_train,y_train_pred)[2]\n",
    "    test_rmse = evaluate_model(y_test,y_test_pred)[2]\n",
    "    train_R2_score = evaluate_model(y_train,y_train_pred)[3]\n",
    "    test_R2_score = evaluate_model(y_test,y_test_pred)[3]\n",
    "    \n",
    "    print(list(models.keys())[i] + \":\")\n",
    "    model_mae_dic[(list(models.keys())[i])] = test_mae\n",
    "    model_mse_dic[(list(models.keys())[i])] = test_mse\n",
    "    model_rmse_dic[(list(models.keys())[i])] = test_rmse\n",
    "    model_R2_score[(list(models.keys())[i])] = test_R2_score\n",
    "    \n",
    "    print('Model performance on training set:')\n",
    "    print(\"Train MAE: {:.4f}\".format(train_mae))\n",
    "    print(\"Train MSE: {:.4f}\".format(train_mse))\n",
    "    print(\"Train RMSE: {:.4f}\".format(train_rmse))\n",
    "    print(\"Model R2 score: {:.4f}\".format(train_R2_score))\n",
    "    sns.regplot(y = y_train, x = y_train_pred)\n",
    "    plt.title(\"Trained \" + list(models.keys())[i])\n",
    "    plt.xlabel(\"Actual Tensile Strength (MPa)\")\n",
    "    plt.ylabel(\"Predicted Tensile Strength (MPa)\")\n",
    "    plt.show()\n",
    "    \n",
    "    print(\"----------------------------------------\")\n",
    "    \n",
    "    print('Model performance on test set:')\n",
    "    print(\"Test MAE: {:.4f}\".format(test_mae))\n",
    "    print(\"Test MSE: {:.4f}\".format(test_mse))\n",
    "    print(\"Test RMSE: {:.4f}\".format(test_rmse))\n",
    "    print(\"Model R2 score: {:.4f}\".format(test_R2_score))\n",
    "    sns.regplot(y = y_test, x = y_test_pred)\n",
    "    plt.title(\"Tested \" + list(models.keys())[i])\n",
    "    plt.xlabel(\"Actual Tensile Strength (MPa)\")\n",
    "    plt.ylabel(\"Predicted Tensile Strength (MPa)\")\n",
    "    plt.show()\n",
    "    \n",
    "    print(\"----------------------------------------\")\n",
    "#     print(\"Model R2 score: {:.4f}\".format(R2_score))\n",
    "    \n",
    "    \n",
    "    print(\"=\"*40)\n",
    "    print('\\n') "
   ]
  },
  {
   "cell_type": "code",
   "execution_count": null,
   "id": "a25651f2",
   "metadata": {},
   "outputs": [],
   "source": [
    "model"
   ]
  },
  {
   "cell_type": "code",
   "execution_count": null,
   "id": "3d7cb762",
   "metadata": {},
   "outputs": [],
   "source": [
    "model.predict([[0.2, 45, 90]])"
   ]
  },
  {
   "cell_type": "code",
   "execution_count": null,
   "id": "4a400f8e",
   "metadata": {},
   "outputs": [],
   "source": [
    "import os\n",
    "\n",
    "# Define the directory path\n",
    "directory = 'D:\\FYP'\n",
    "\n",
    "# Check if the directory exists, if not, create it\n",
    "if not os.path.exists(directory):\n",
    "    os.makedirs(directory)\n",
    "\n",
    "# Change the current working directory to the new directory\n",
    "os.chdir(directory)"
   ]
  },
  {
   "cell_type": "code",
   "execution_count": null,
   "id": "e2d1a9df",
   "metadata": {},
   "outputs": [],
   "source": [
    "import pickle"
   ]
  },
  {
   "cell_type": "code",
   "execution_count": null,
   "id": "c6af1748",
   "metadata": {},
   "outputs": [],
   "source": [
    "model1 = RandomForestRegressor()\n",
    "model1.fit(X_train, y_train)"
   ]
  },
  {
   "cell_type": "code",
   "execution_count": null,
   "id": "e2f7f4d2",
   "metadata": {},
   "outputs": [],
   "source": [
    "with open('model.pkl', 'wb') as f:\n",
    "    pickle.dump(model1, f)"
   ]
  },
  {
   "cell_type": "code",
   "execution_count": null,
   "id": "60daadbe",
   "metadata": {},
   "outputs": [],
   "source": [
    "with open('model.pkl', 'rb') as f:\n",
    "    loaded_model = pickle.load(f)"
   ]
  },
  {
   "cell_type": "code",
   "execution_count": null,
   "id": "5724e2c3",
   "metadata": {},
   "outputs": [],
   "source": []
  }
 ],
 "metadata": {
  "kernelspec": {
   "display_name": "Python 3 (ipykernel)",
   "language": "python",
   "name": "python3"
  },
  "language_info": {
   "codemirror_mode": {
    "name": "ipython",
    "version": 3
   },
   "file_extension": ".py",
   "mimetype": "text/x-python",
   "name": "python",
   "nbconvert_exporter": "python",
   "pygments_lexer": "ipython3",
   "version": "3.11.5"
  }
 },
 "nbformat": 4,
 "nbformat_minor": 5
}
